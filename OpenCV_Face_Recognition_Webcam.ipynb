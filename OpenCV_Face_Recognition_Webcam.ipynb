{
 "cells": [
  {
   "cell_type": "code",
   "execution_count": 1,
   "metadata": {},
   "outputs": [],
   "source": [
    "# Import Libraries\n",
    "import cv2\n",
    "import sys\n",
    "import face_recognition as fr\n",
    "import numpy as np"
   ]
  },
  {
   "cell_type": "code",
   "execution_count": 2,
   "metadata": {},
   "outputs": [],
   "source": [
    "# Capturing the video\n",
    "video_capture = cv2.VideoCapture(0)\n",
    "\n",
    "# Loading photo of me\n",
    "giannis = fr.load_image_file('C:/Users/johba/Desktop/Python/OPENCV/Known_faces/giannis.jpeg')\n",
    "\n",
    "# Face encoding\n",
    "encoding_giannis = fr.face_encodings(giannis)[0]\n",
    "\n",
    "# Create and array of known faces\n",
    "known_faces = [encoding_giannis]\n",
    "\n",
    "# Names of the encodings\n",
    "known_names = ['Giannis']\n",
    "\n",
    "# Recognize persons on the video\n",
    "while True:\n",
    "    ret, frame = video_capture.read()\n",
    "    # Convert the picture into RGB format\n",
    "    color = cv2.cvtColor(frame, cv2.COLOR_BGR2RGB)\n",
    "    \n",
    "    # Location and encoding of the faces\n",
    "    face_locations = fr.face_locations(color)\n",
    "    face_encodings = fr.face_encodings(color, face_locations)\n",
    "    \n",
    "    for (top, right, bottom, left), face_encoding in zip(face_locations, face_encodings):\n",
    "        matches = fr.compare_faces(known_faces, face_encoding)\n",
    "        \n",
    "        \n",
    "        # If the face is unknown then, it prints unknown\n",
    "        name = 'Unknown'\n",
    "        \n",
    "        face_distance = fr.face_distance(known_faces, face_encoding)\n",
    "        \n",
    "        best_match = np.argmin(face_distance)\n",
    "        if matches[best_match]:\n",
    "            name = known_names[best_match]\n",
    "            \n",
    "        # Create  rectangle around the face\n",
    "        cv2.rectangle(frame, (left, top), (right, bottom), (0,0,255), 2)\n",
    "        \n",
    "        # Create another rectangle for the name\n",
    "        cv2.rectangle(frame, (left, bottom-35), (right, bottom), (0,0,255), cv2.FILLED)\n",
    "        font = cv2.FONT_HERSHEY_SIMPLEX\n",
    "        cv2.putText(frame, name, (left+6, bottom-6), font, 1.0, (255,255,255), 1)\n",
    "    \n",
    "    cv2.imshow('Webcam', frame)\n",
    "    \n",
    "    if cv2.waitKey(0) & 0xFF == ord('q'):\n",
    "        break\n",
    "\n",
    "video_capture.release()\n",
    "cv2.destroyAllWindows()"
   ]
  },
  {
   "cell_type": "code",
   "execution_count": null,
   "metadata": {},
   "outputs": [],
   "source": []
  }
 ],
 "metadata": {
  "kernelspec": {
   "display_name": "Python 3",
   "language": "python",
   "name": "python3"
  },
  "language_info": {
   "codemirror_mode": {
    "name": "ipython",
    "version": 3
   },
   "file_extension": ".py",
   "mimetype": "text/x-python",
   "name": "python",
   "nbconvert_exporter": "python",
   "pygments_lexer": "ipython3",
   "version": "3.7.4"
  }
 },
 "nbformat": 4,
 "nbformat_minor": 4
}
